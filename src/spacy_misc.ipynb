{
 "cells": [
  {
   "cell_type": "code",
   "execution_count": 14,
   "metadata": {},
   "outputs": [
    {
     "name": "stdout",
     "output_type": "stream",
     "text": [
      "Spacy pre-trained model 'en_core_web_sm' is not present on this machine. Retrieving English language model from Spacy website.\n",
      "DOWNLOAD ATTEMPT : 0\n",
      "Collecting en-core-web-sm==3.5.0\n",
      "  Using cached https://github.com/explosion/spacy-models/releases/download/en_core_web_sm-3.5.0/en_core_web_sm-3.5.0-py3-none-any.whl (12.8 MB)\n",
      "Requirement already satisfied: spacy<3.6.0,>=3.5.0 in /home/dk/.virtualenvs/gutenberg_text_analysis/lib/python3.9/site-packages (from en-core-web-sm==3.5.0) (3.5.0)\n",
      "Requirement already satisfied: langcodes<4.0.0,>=3.2.0 in /home/dk/.virtualenvs/gutenberg_text_analysis/lib/python3.9/site-packages (from spacy<3.6.0,>=3.5.0->en-core-web-sm==3.5.0) (3.3.0)\n",
      "Requirement already satisfied: wasabi<1.2.0,>=0.9.1 in /home/dk/.virtualenvs/gutenberg_text_analysis/lib/python3.9/site-packages (from spacy<3.6.0,>=3.5.0->en-core-web-sm==3.5.0) (1.1.1)\n",
      "Requirement already satisfied: jinja2 in /home/dk/.virtualenvs/gutenberg_text_analysis/lib/python3.9/site-packages (from spacy<3.6.0,>=3.5.0->en-core-web-sm==3.5.0) (3.1.2)\n",
      "Requirement already satisfied: numpy>=1.15.0 in /home/dk/.virtualenvs/gutenberg_text_analysis/lib/python3.9/site-packages (from spacy<3.6.0,>=3.5.0->en-core-web-sm==3.5.0) (1.24.2)\n",
      "Requirement already satisfied: spacy-loggers<2.0.0,>=1.0.0 in /home/dk/.virtualenvs/gutenberg_text_analysis/lib/python3.9/site-packages (from spacy<3.6.0,>=3.5.0->en-core-web-sm==3.5.0) (1.0.4)\n",
      "Requirement already satisfied: tqdm<5.0.0,>=4.38.0 in /home/dk/.virtualenvs/gutenberg_text_analysis/lib/python3.9/site-packages (from spacy<3.6.0,>=3.5.0->en-core-web-sm==3.5.0) (4.64.1)\n",
      "Requirement already satisfied: smart-open<7.0.0,>=5.2.1 in /home/dk/.virtualenvs/gutenberg_text_analysis/lib/python3.9/site-packages (from spacy<3.6.0,>=3.5.0->en-core-web-sm==3.5.0) (6.3.0)\n",
      "Requirement already satisfied: murmurhash<1.1.0,>=0.28.0 in /home/dk/.virtualenvs/gutenberg_text_analysis/lib/python3.9/site-packages (from spacy<3.6.0,>=3.5.0->en-core-web-sm==3.5.0) (1.0.9)\n",
      "Requirement already satisfied: packaging>=20.0 in /home/dk/.virtualenvs/gutenberg_text_analysis/lib/python3.9/site-packages (from spacy<3.6.0,>=3.5.0->en-core-web-sm==3.5.0) (23.0)\n",
      "Requirement already satisfied: srsly<3.0.0,>=2.4.3 in /home/dk/.virtualenvs/gutenberg_text_analysis/lib/python3.9/site-packages (from spacy<3.6.0,>=3.5.0->en-core-web-sm==3.5.0) (2.4.5)\n",
      "Requirement already satisfied: thinc<8.2.0,>=8.1.0 in /home/dk/.virtualenvs/gutenberg_text_analysis/lib/python3.9/site-packages (from spacy<3.6.0,>=3.5.0->en-core-web-sm==3.5.0) (8.1.7)\n",
      "Requirement already satisfied: typer<0.8.0,>=0.3.0 in /home/dk/.virtualenvs/gutenberg_text_analysis/lib/python3.9/site-packages (from spacy<3.6.0,>=3.5.0->en-core-web-sm==3.5.0) (0.7.0)\n",
      "Requirement already satisfied: pydantic!=1.8,!=1.8.1,<1.11.0,>=1.7.4 in /home/dk/.virtualenvs/gutenberg_text_analysis/lib/python3.9/site-packages (from spacy<3.6.0,>=3.5.0->en-core-web-sm==3.5.0) (1.10.5)\n",
      "Requirement already satisfied: preshed<3.1.0,>=3.0.2 in /home/dk/.virtualenvs/gutenberg_text_analysis/lib/python3.9/site-packages (from spacy<3.6.0,>=3.5.0->en-core-web-sm==3.5.0) (3.0.8)\n",
      "Requirement already satisfied: spacy-legacy<3.1.0,>=3.0.11 in /home/dk/.virtualenvs/gutenberg_text_analysis/lib/python3.9/site-packages (from spacy<3.6.0,>=3.5.0->en-core-web-sm==3.5.0) (3.0.12)\n",
      "Requirement already satisfied: pathy>=0.10.0 in /home/dk/.virtualenvs/gutenberg_text_analysis/lib/python3.9/site-packages (from spacy<3.6.0,>=3.5.0->en-core-web-sm==3.5.0) (0.10.1)\n",
      "Requirement already satisfied: cymem<2.1.0,>=2.0.2 in /home/dk/.virtualenvs/gutenberg_text_analysis/lib/python3.9/site-packages (from spacy<3.6.0,>=3.5.0->en-core-web-sm==3.5.0) (2.0.7)\n",
      "Requirement already satisfied: setuptools in /home/dk/.virtualenvs/gutenberg_text_analysis/lib/python3.9/site-packages (from spacy<3.6.0,>=3.5.0->en-core-web-sm==3.5.0) (58.1.0)\n",
      "Requirement already satisfied: requests<3.0.0,>=2.13.0 in /home/dk/.virtualenvs/gutenberg_text_analysis/lib/python3.9/site-packages (from spacy<3.6.0,>=3.5.0->en-core-web-sm==3.5.0) (2.28.2)\n",
      "Requirement already satisfied: catalogue<2.1.0,>=2.0.6 in /home/dk/.virtualenvs/gutenberg_text_analysis/lib/python3.9/site-packages (from spacy<3.6.0,>=3.5.0->en-core-web-sm==3.5.0) (2.0.8)\n",
      "Requirement already satisfied: typing-extensions>=4.2.0 in /home/dk/.virtualenvs/gutenberg_text_analysis/lib/python3.9/site-packages (from pydantic!=1.8,!=1.8.1,<1.11.0,>=1.7.4->spacy<3.6.0,>=3.5.0->en-core-web-sm==3.5.0) (4.4.0)\n",
      "Requirement already satisfied: charset-normalizer<4,>=2 in /home/dk/.virtualenvs/gutenberg_text_analysis/lib/python3.9/site-packages (from requests<3.0.0,>=2.13.0->spacy<3.6.0,>=3.5.0->en-core-web-sm==3.5.0) (3.0.1)\n",
      "Requirement already satisfied: certifi>=2017.4.17 in /home/dk/.virtualenvs/gutenberg_text_analysis/lib/python3.9/site-packages (from requests<3.0.0,>=2.13.0->spacy<3.6.0,>=3.5.0->en-core-web-sm==3.5.0) (2022.12.7)\n",
      "Requirement already satisfied: idna<4,>=2.5 in /home/dk/.virtualenvs/gutenberg_text_analysis/lib/python3.9/site-packages (from requests<3.0.0,>=2.13.0->spacy<3.6.0,>=3.5.0->en-core-web-sm==3.5.0) (3.4)\n",
      "Requirement already satisfied: urllib3<1.27,>=1.21.1 in /home/dk/.virtualenvs/gutenberg_text_analysis/lib/python3.9/site-packages (from requests<3.0.0,>=2.13.0->spacy<3.6.0,>=3.5.0->en-core-web-sm==3.5.0) (1.26.14)\n",
      "Requirement already satisfied: confection<1.0.0,>=0.0.1 in /home/dk/.virtualenvs/gutenberg_text_analysis/lib/python3.9/site-packages (from thinc<8.2.0,>=8.1.0->spacy<3.6.0,>=3.5.0->en-core-web-sm==3.5.0) (0.0.4)\n",
      "Requirement already satisfied: blis<0.8.0,>=0.7.8 in /home/dk/.virtualenvs/gutenberg_text_analysis/lib/python3.9/site-packages (from thinc<8.2.0,>=8.1.0->spacy<3.6.0,>=3.5.0->en-core-web-sm==3.5.0) (0.7.9)\n",
      "Requirement already satisfied: click<9.0.0,>=7.1.1 in /home/dk/.virtualenvs/gutenberg_text_analysis/lib/python3.9/site-packages (from typer<0.8.0,>=0.3.0->spacy<3.6.0,>=3.5.0->en-core-web-sm==3.5.0) (8.1.3)\n",
      "Requirement already satisfied: MarkupSafe>=2.0 in /home/dk/.virtualenvs/gutenberg_text_analysis/lib/python3.9/site-packages (from jinja2->spacy<3.6.0,>=3.5.0->en-core-web-sm==3.5.0) (2.1.2)\n",
      "Installing collected packages: en-core-web-sm\n",
      "Successfully installed en-core-web-sm-3.5.0\n"
     ]
    },
    {
     "name": "stderr",
     "output_type": "stream",
     "text": [
      "WARNING: You are using pip version 22.0.4; however, version 23.0.1 is available.\n",
      "You should consider upgrading via the '/home/dk/.virtualenvs/gutenberg_text_analysis/bin/python -m pip install --upgrade pip' command.\n"
     ]
    },
    {
     "name": "stdout",
     "output_type": "stream",
     "text": [
      "\u001b[38;5;2m✔ Download and installation successful\u001b[0m\n",
      "You can now load the package via spacy.load('en_core_web_sm')\n",
      "[In ancient Rome, some neighbors live in three adjacent houses., In the center is the house of Senex, who lives there with wife Domina, son Hero, and several slaves, including head slave Hysterium and the musical's main character Pseudolus., A slave belonging to Hero, Pseudolus wishes to buy, win, or steal his freedom., One of the neighboring houses is owned by Marcus Lycus, who is a buyer and seller of beautiful women; the other belongs to the ancient Erronius, who is abroad searching for his long-lost children (stolen in infancy by pirates)., One day, Senex and Domina go on a trip and leave Pseudolus in charge of Hero., Hero confides in Pseudolus that he is in love with the lovely Philia, one of the courtesans in the House of Lycus (albeit still a virgin).]\n"
     ]
    }
   ],
   "source": [
    "import spacy\n",
    "from spacy import displacy\n",
    "import subprocess\n",
    "import sys\n",
    "\n",
    "\n",
    "def get_spacy_model(verbose=False):\n",
    "    \"\"\"\n",
    "    If the spacy pre-trained English model is not available on our machine, we'll use this function to fetch it.\n",
    "    Naive function, assumes that spacy is already imported at class level.\n",
    "    If the download fails after three attempts, return error.\n",
    "\n",
    "\n",
    "    verbose : Boolean - Set to True if you want to see stdout for Spacy model download\n",
    "    \"\"\"\n",
    "    for i in range(0, 3):\n",
    "        while True:\n",
    "            try:\n",
    "                model = spacy.load(\"en_core_web_sm\")\n",
    "                return model\n",
    "            except OSError as error:\n",
    "                print(\n",
    "                    \"Spacy pre-trained model 'en_core_web_sm' is not present on this machine. Retrieving English language model from Spacy website.\"\n",
    "                    + \"\\n\"\n",
    "                    + \"DOWNLOAD ATTEMPT : {}\".format(i + 1)\n",
    "                )\n",
    "                # If the model isn't present, download with statement : python -m spacy download en_core_web_sm\n",
    "                if verbose:\n",
    "                    # Output download status to stdout\n",
    "                    subprocess.check_call(\n",
    "                        [sys.executable, \"-m\", \"spacy\", \"download\", \"en_core_web_sm\"]\n",
    "                    )\n",
    "\n",
    "                else:    \n",
    "                    # verbose = False (default), we'll hide output\n",
    "                    subprocess.check_call(\n",
    "                        [sys.executable, \"-m\", \"spacy\", \"download\", \"en_core_web_sm\"],\n",
    "                        stdout=subprocess.DEVNULL,\n",
    "                        stderr=subprocess.STDOUT,\n",
    "                    )\n",
    "                continue\n",
    "            break\n",
    "\n",
    "\n",
    "nlp = get_spacy_model()\n",
    "text = \"\"\"In ancient Rome, some neighbors live in three adjacent houses. In the center is the house of Senex, who lives there with wife Domina, son Hero, and several slaves, including head slave Hysterium and the musical's main character Pseudolus. A slave belonging to Hero, Pseudolus wishes to buy, win, or steal his freedom. One of the neighboring houses is owned by Marcus Lycus, who is a buyer and seller of beautiful women; the other belongs to the ancient Erronius, who is abroad searching for his long-lost children (stolen in infancy by pirates). One day, Senex and Domina go on a trip and leave Pseudolus in charge of Hero. Hero confides in Pseudolus that he is in love with the lovely Philia, one of the courtesans in the House of Lycus (albeit still a virgin).\"\"\"\n",
    "doc = nlp(text)\n",
    "sentence_spans = list(doc.sents)\n",
    "print(sentence_spans)\n"
   ]
  }
 ],
 "metadata": {
  "kernelspec": {
   "display_name": "gutenberg_text_analysis",
   "language": "python",
   "name": "python3"
  },
  "language_info": {
   "codemirror_mode": {
    "name": "ipython",
    "version": 3
   },
   "file_extension": ".py",
   "mimetype": "text/x-python",
   "name": "python",
   "nbconvert_exporter": "python",
   "pygments_lexer": "ipython3",
   "version": "3.9.12"
  },
  "orig_nbformat": 4,
  "vscode": {
   "interpreter": {
    "hash": "44922a5ac96588b71f4bf91f906caa953f5f0abc3ee9116e23fa6d4a71f7ed57"
   }
  }
 },
 "nbformat": 4,
 "nbformat_minor": 2
}
