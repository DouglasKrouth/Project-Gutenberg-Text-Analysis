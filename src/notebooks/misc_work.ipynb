{
 "cells": [
  {
   "cell_type": "code",
   "execution_count": 14,
   "metadata": {},
   "outputs": [
    {
     "ename": "ImportError",
     "evalue": "attempted relative import with no known parent package",
     "output_type": "error",
     "traceback": [
      "\u001b[0;31m---------------------------------------------------------------------------\u001b[0m",
      "\u001b[0;31mImportError\u001b[0m                               Traceback (most recent call last)",
      "Cell \u001b[0;32mIn[14], line 2\u001b[0m\n\u001b[1;32m      1\u001b[0m \u001b[39mimport\u001b[39;00m \u001b[39mpandas\u001b[39;00m \u001b[39mas\u001b[39;00m \u001b[39mpd\u001b[39;00m\n\u001b[0;32m----> 2\u001b[0m \u001b[39mfrom\u001b[39;00m \u001b[39m.\u001b[39;00m\u001b[39m.\u001b[39;00m\u001b[39mscraper\u001b[39;00m\u001b[39m.\u001b[39;00m\u001b[39mget_gutenberg_catalog\u001b[39;00m \u001b[39mimport\u001b[39;00m get_gutenberg_catalog\n\u001b[1;32m      4\u001b[0m \u001b[39mdef\u001b[39;00m \u001b[39mload_catalog\u001b[39m():\n\u001b[1;32m      5\u001b[0m     \u001b[39mfor\u001b[39;00m i \u001b[39min\u001b[39;00m \u001b[39mrange\u001b[39m(\u001b[39m0\u001b[39m,\u001b[39m3\u001b[39m):\n",
      "\u001b[0;31mImportError\u001b[0m: attempted relative import with no known parent package"
     ]
    }
   ],
   "source": [
    "import pandas as pd\n",
    "from ..scraper.get_gutenberg_catalog import get_gutenberg_catalog\n",
    "\n",
    "def load_catalog():\n",
    "    for i in range(0,3):\n",
    "        while True:\n",
    "            \n",
    "            try:\n",
    "                catalog_df = pd.read_csv(\n",
    "                \"../../data/gutenberg_index.csv\",\n",
    "                dtype={\n",
    "                    \"Text#\": int,\n",
    "                    \"Type\": str,\n",
    "                    \"Issued\": str,\n",
    "                    \"Title\": str,\n",
    "                    \"Language\": str,\n",
    "                    \"Authors\": str,\n",
    "                    \"Subjects\": str,\n",
    "                    \"LoCC\": str,\n",
    "                    \"Bookshelves\": str,\n",
    "                },\n",
    "            )\n",
    "                print(catalog_df.head())\n",
    "                return catalog_df\n",
    "                # TODO : Don't keep this, just for testing\n",
    "            except FileNotFoundError:\n",
    "                print(\"Gutenberg catalog not found, downloading\")\n",
    "                get_gutenberg_catalog()\n"
   ]
  },
  {
   "cell_type": "code",
   "execution_count": 15,
   "metadata": {},
   "outputs": [
    {
     "name": "stdout",
     "output_type": "stream",
     "text": [
      "Spacy pre-trained model 'en_core_web_sm' is not present on this machine. Retrieving English language model from Spacy website.\n",
      "DOWNLOAD ATTEMPT : 1\n",
      "[In ancient Rome, some neighbors live in three adjacent houses., In the center is the house of Senex, who lives there with wife Domina, son Hero, and several slaves, including head slave Hysterium and the musical's main character Pseudolus., A slave belonging to Hero, Pseudolus wishes to buy, win, or steal his freedom., One of the neighboring houses is owned by Marcus Lycus, who is a buyer and seller of beautiful women; the other belongs to the ancient Erronius, who is abroad searching for his long-lost children (stolen in infancy by pirates)., One day, Senex and Domina go on a trip and leave Pseudolus in charge of Hero., Hero confides in Pseudolus that he is in love with the lovely Philia, one of the courtesans in the House of Lycus (albeit still a virgin).]\n"
     ]
    }
   ],
   "source": [
    "import spacy\n",
    "from spacy import displacy\n",
    "import subprocess\n",
    "import sys\n",
    "\n",
    "\n",
    "def get_spacy_model(verbose=False):\n",
    "    \"\"\"\n",
    "    If the spacy pre-trained English model is not available on our machine, we'll use this function to fetch it.\n",
    "    Naive function, assumes that spacy is already imported at class level.\n",
    "    If the download fails after three attempts, return error.\n",
    "\n",
    "    verbose : Boolean - Set to True if you want to see stdout for Spacy model download\n",
    "    \"\"\"\n",
    "    for i in range(0, 3):\n",
    "        while True:\n",
    "            try:\n",
    "                model = spacy.load(\"en_core_web_sm\")\n",
    "                return model\n",
    "            except OSError as error:\n",
    "                # Spacy English model not found, download with statement : python -m spacy download en_core_web_sm\n",
    "                print(\n",
    "                    \"Spacy pre-trained model 'en_core_web_sm' is not present on this machine. Retrieving English language model from Spacy website.\"\n",
    "                    + \"\\n\"\n",
    "                    + \"DOWNLOAD ATTEMPT : {}\".format(i + 1)\n",
    "                )\n",
    "                if verbose:\n",
    "                    # Output download status to stdout\n",
    "                    subprocess.check_call(\n",
    "                        [sys.executable, \"-m\", \"spacy\", \"download\", \"en_core_web_sm\"]\n",
    "                    )\n",
    "\n",
    "                else:\n",
    "                    # verbose = False (default), we'll hide output\n",
    "                    subprocess.check_call(\n",
    "                        [sys.executable, \"-m\", \"spacy\", \"download\", \"en_core_web_sm\"],\n",
    "                        stdout=subprocess.DEVNULL,\n",
    "                        stderr=subprocess.STDOUT,\n",
    "                    )\n",
    "                continue\n",
    "            break\n",
    "\n",
    "\n",
    "nlp = get_spacy_model()\n",
    "text = \"\"\"In ancient Rome, some neighbors live in three adjacent houses. In the center is the house of Senex,\n",
    "who lives there with wife Domina, son Hero, and several slaves, including head slave Hysterium and the musical's\n",
    "main character Pseudolus. A slave belonging to Hero, Pseudolus wishes to buy, win, or steal his freedom. \n",
    "One of the neighboring houses is owned by Marcus Lycus, who is a buyer and seller of beautiful women; \n",
    "the other belongs to the ancient Erronius, who is abroad searching for his long-lost children (stolen in infancy by pirates).\n",
    "One day, Senex and Domina go on a trip and leave Pseudolus in charge of Hero. Hero confides in Pseudolus that he is in love \n",
    "with the lovely Philia, one of the courtesans in the House of Lycus (albeit still a virgin).\"\"\"\n",
    "doc = nlp(text)\n",
    "sentence_spans = list(doc.sents)\n",
    "print(sentence_spans)\n"
   ]
  },
  {
   "cell_type": "code",
   "execution_count": 1,
   "metadata": {},
   "outputs": [],
   "source": [
    "import requests\n",
    "\n",
    "# Sample URL with \"The Eternal Savage\"\n",
    "t = requests.get(\"https://www.gutenberg.org/cache/epub/70002/pg70002.txt\")"
   ]
  }
 ],
 "metadata": {
  "kernelspec": {
   "display_name": "gutenberg_text_analysis",
   "language": "python",
   "name": "python3"
  },
  "language_info": {
   "codemirror_mode": {
    "name": "ipython",
    "version": 3
   },
   "file_extension": ".py",
   "mimetype": "text/x-python",
   "name": "python",
   "nbconvert_exporter": "python",
   "pygments_lexer": "ipython3",
   "version": "3.9.12"
  },
  "orig_nbformat": 4,
  "vscode": {
   "interpreter": {
    "hash": "44922a5ac96588b71f4bf91f906caa953f5f0abc3ee9116e23fa6d4a71f7ed57"
   }
  }
 },
 "nbformat": 4,
 "nbformat_minor": 2
}
