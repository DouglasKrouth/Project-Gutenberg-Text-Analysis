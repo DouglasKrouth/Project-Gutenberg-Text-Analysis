{
 "cells": [
  {
   "cell_type": "code",
   "execution_count": 15,
   "metadata": {},
   "outputs": [
    {
     "name": "stdout",
     "output_type": "stream",
     "text": [
      "Spacy pre-trained model 'en_core_web_sm' is not present on this machine. Retrieving English language model from Spacy website.\n",
      "DOWNLOAD ATTEMPT : 1\n",
      "[In ancient Rome, some neighbors live in three adjacent houses., In the center is the house of Senex, who lives there with wife Domina, son Hero, and several slaves, including head slave Hysterium and the musical's main character Pseudolus., A slave belonging to Hero, Pseudolus wishes to buy, win, or steal his freedom., One of the neighboring houses is owned by Marcus Lycus, who is a buyer and seller of beautiful women; the other belongs to the ancient Erronius, who is abroad searching for his long-lost children (stolen in infancy by pirates)., One day, Senex and Domina go on a trip and leave Pseudolus in charge of Hero., Hero confides in Pseudolus that he is in love with the lovely Philia, one of the courtesans in the House of Lycus (albeit still a virgin).]\n"
     ]
    }
   ],
   "source": [
    "import spacy\n",
    "from spacy import displacy\n",
    "import subprocess\n",
    "import sys\n",
    "\n",
    "\n",
    "def get_spacy_model(verbose=False):\n",
    "    \"\"\"\n",
    "    If the spacy pre-trained English model is not available on our machine, we'll use this function to fetch it.\n",
    "    Naive function, assumes that spacy is already imported at class level.\n",
    "    If the download fails after three attempts, return error.\n",
    "\n",
    "    verbose : Boolean - Set to True if you want to see stdout for Spacy model download\n",
    "    \"\"\"\n",
    "    for i in range(0, 3):\n",
    "        while True:\n",
    "            try:\n",
    "                model = spacy.load(\"en_core_web_sm\")\n",
    "                return model\n",
    "            except OSError as error:\n",
    "                # Spacy English model not found, download with statement : python -m spacy download en_core_web_sm\n",
    "                print(\n",
    "                    \"Spacy pre-trained model 'en_core_web_sm' is not present on this machine. Retrieving English language model from Spacy website.\"\n",
    "                    + \"\\n\"\n",
    "                    + \"DOWNLOAD ATTEMPT : {}\".format(i + 1)\n",
    "                )\n",
    "                if verbose:\n",
    "                    # Output download status to stdout\n",
    "                    subprocess.check_call(\n",
    "                        [sys.executable, \"-m\", \"spacy\", \"download\", \"en_core_web_sm\"]\n",
    "                    )\n",
    "\n",
    "                else:\n",
    "                    # verbose = False (default), we'll hide output\n",
    "                    subprocess.check_call(\n",
    "                        [sys.executable, \"-m\", \"spacy\", \"download\", \"en_core_web_sm\"],\n",
    "                        stdout=subprocess.DEVNULL,\n",
    "                        stderr=subprocess.STDOUT,\n",
    "                    )\n",
    "                continue\n",
    "            break\n",
    "\n",
    "\n",
    "nlp = get_spacy_model()\n",
    "text = \"\"\"In ancient Rome, some neighbors live in three adjacent houses. In the center is the house of Senex, who lives there with wife Domina, son Hero, and several slaves, including head slave Hysterium and the musical's main character Pseudolus. A slave belonging to Hero, Pseudolus wishes to buy, win, or steal his freedom. One of the neighboring houses is owned by Marcus Lycus, who is a buyer and seller of beautiful women; the other belongs to the ancient Erronius, who is abroad searching for his long-lost children (stolen in infancy by pirates). One day, Senex and Domina go on a trip and leave Pseudolus in charge of Hero. Hero confides in Pseudolus that he is in love with the lovely Philia, one of the courtesans in the House of Lycus (albeit still a virgin).\"\"\"\n",
    "doc = nlp(text)\n",
    "sentence_spans = list(doc.sents)\n",
    "print(sentence_spans)\n"
   ]
  }
 ],
 "metadata": {
  "kernelspec": {
   "display_name": "gutenberg_text_analysis",
   "language": "python",
   "name": "python3"
  },
  "language_info": {
   "codemirror_mode": {
    "name": "ipython",
    "version": 3
   },
   "file_extension": ".py",
   "mimetype": "text/x-python",
   "name": "python",
   "nbconvert_exporter": "python",
   "pygments_lexer": "ipython3",
   "version": "3.9.12"
  },
  "orig_nbformat": 4,
  "vscode": {
   "interpreter": {
    "hash": "44922a5ac96588b71f4bf91f906caa953f5f0abc3ee9116e23fa6d4a71f7ed57"
   }
  }
 },
 "nbformat": 4,
 "nbformat_minor": 2
}
